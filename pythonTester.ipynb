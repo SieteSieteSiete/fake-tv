{
 "cells": [
  {
   "cell_type": "code",
   "execution_count": 1,
   "metadata": {},
   "outputs": [
    {
     "data": {
      "text/plain": [
       "True"
      ]
     },
     "execution_count": 1,
     "metadata": {},
     "output_type": "execute_result"
    }
   ],
   "source": [
    "from dotenv import load_dotenv\n",
    "import json\n",
    "import os\n",
    "import redis\n",
    "from tmdbv3api import TMDb, TV, Season, Episode\n",
    "import xml.etree.ElementTree as ET\n",
    "\n",
    "load_dotenv()"
   ]
  },
  {
   "cell_type": "code",
   "execution_count": 2,
   "metadata": {},
   "outputs": [],
   "source": [
    "r = redis.Redis(host='localhost', port=6379, decode_responses=True)"
   ]
  },
  {
   "cell_type": "markdown",
   "metadata": {},
   "source": [
    "Test Key:"
   ]
  },
  {
   "cell_type": "code",
   "execution_count": 7,
   "metadata": {},
   "outputs": [
    {
     "data": {
      "text/plain": [
       "True"
      ]
     },
     "execution_count": 7,
     "metadata": {},
     "output_type": "execute_result"
    }
   ],
   "source": [
    "# Example: Set and get a key\n",
    "r.set('key', 'value')"
   ]
  },
  {
   "cell_type": "code",
   "execution_count": 4,
   "metadata": {},
   "outputs": [
    {
     "name": "stdout",
     "output_type": "stream",
     "text": [
      "value\n"
     ]
    }
   ],
   "source": [
    "print(r.get('key'))  # b'value'"
   ]
  },
  {
   "cell_type": "code",
   "execution_count": 10,
   "metadata": {},
   "outputs": [
    {
     "data": {
      "text/plain": [
       "0"
      ]
     },
     "execution_count": 10,
     "metadata": {},
     "output_type": "execute_result"
    }
   ],
   "source": [
    "# Add the media file metadata from the NFO file\n",
    "metadata = {\n",
    "    'plot': 'In 2071, roughly fifty years after an accident with a hyperspace gateway made the Earth almost uninhabitable, humanity has colonized most of the rocky planets and moons of the Solar System. Amid a rising crime rate, the Inter Solar System Police (ISSP) set up a legalized contract system, in which registered bounty hunters (also referred to as \"Cowboys\") chase criminals and bring them in alive in return for a reward.',\n",
    "    'outline': 'In 2071, roughly fifty years after an accident with a hyperspace gateway made the Earth almost uninhabitable, humanity has colonized most of the rocky planets and moons of the Solar System. Amid a rising crime rate, the Inter Solar System Police (ISSP) set up a legalized contract system, in which registered bounty hunters (also referred to as \"Cowboys\") chase criminals and bring them in alive in return for a reward.',\n",
    "    'lockdata': 'true',\n",
    "    'dateadded': '2022-10-19 19:46:52',\n",
    "    'title': 'Cowboy Bebop',\n",
    "    'originaltitle': 'カウボーイビバップ',\n",
    "    'writer': 'Hajime Yatate',\n",
    "    'credits': 'Hajime Yatate',\n",
    "    'trailer': 'plugin://plugin.video.youtube/?action=play_video&videoid=RI08P5SaJNU',\n",
    "    'rating': '8.9',\n",
    "    'year': '1998',\n",
    "    'mpaa': 'TV-14',\n",
    "    'imdb_id': 'tt0213338',\n",
    "    'tmdbid': '30991',\n",
    "    'premiered': '1998-04-02',\n",
    "    'releasedate': '1998-04-02',\n",
    "    'enddate': '1999-04-23',\n",
    "    'runtime': '25',\n",
    "    'genre': 'Western',\n",
    "    'studio': 'WOWOW Prime',\n",
    "    'tag': 'space western',\n",
    "    'tvdbid': '76885',\n",
    "    'art': '',\n",
    "    'actor': '',\n",
    "    'id': '76885',\n",
    "    'episodeguide': '',\n",
    "    'season': '-1',\n",
    "    'episode': '-1',\n",
    "    'status': 'Ended'\n",
    "}\n",
    "\n",
    "# Use hset with mapping to add the metadata\n",
    "r.hset('media:cowboy_bebop', mapping=metadata)"
   ]
  },
  {
   "cell_type": "code",
   "execution_count": 5,
   "metadata": {},
   "outputs": [
    {
     "name": "stdout",
     "output_type": "stream",
     "text": [
      "{'status': 'Ended', 'writer': 'Hajime Yatate', 'year': '1998', 'studio': 'WOWOW Prime', 'mpaa': 'TV-14', 'plot': 'In 2071, roughly fifty years after an accident with a hyperspace gateway made the Earth almost uninhabitable, humanity has colonized most of the rocky planets and moons of the Solar System. Amid a rising crime rate, the Inter Solar System Police (ISSP) set up a legalized contract system, in which registered bounty hunters (also referred to as \"Cowboys\") chase criminals and bring them in alive in return for a reward.', 'imdb_id': 'tt0213338', 'releasedate': '1998-04-02', 'lockdata': 'true', 'id': '76885', 'credits': 'Hajime Yatate', 'enddate': '1999-04-23', 'episode': '-1', 'premiered': '1998-04-02', 'originaltitle': 'カウボーイビバップ', 'dateadded': '2022-10-19 19:46:52', 'season': '-1', 'runtime': '25', 'rating': '8.9', 'actor': '', 'outline': 'In 2071, roughly fifty years after an accident with a hyperspace gateway made the Earth almost uninhabitable, humanity has colonized most of the rocky planets and moons of the Solar System. Amid a rising crime rate, the Inter Solar System Police (ISSP) set up a legalized contract system, in which registered bounty hunters (also referred to as \"Cowboys\") chase criminals and bring them in alive in return for a reward.', 'episodeguide': '', 'tvdbid': '76885', 'tag': 'space western', 'title': 'Cowboy Bebop', 'tmdbid': '30991', 'art': '', 'genre': 'Western', 'trailer': 'plugin://plugin.video.youtube/?action=play_video&videoid=RI08P5SaJNU'}\n"
     ]
    }
   ],
   "source": [
    "# Retrieve metadata\n",
    "print(r.hgetall('media:cowboy_bebop'))"
   ]
  },
  {
   "cell_type": "markdown",
   "metadata": {},
   "source": [
    "Script to process nfo"
   ]
  },
  {
   "cell_type": "code",
   "execution_count": null,
   "metadata": {},
   "outputs": [],
   "source": [
    "# Load and parse the NFO file\n",
    "tree = ET.parse('tvshow.nfo')\n",
    "root = tree.getroot()\n",
    "\n",
    "# Extract metadata from the NFO file\n",
    "metadata = {}\n",
    "for child in root:\n",
    "    metadata[child.tag] = child.text\n",
    "\n",
    "metadata"
   ]
  },
  {
   "cell_type": "markdown",
   "metadata": {},
   "source": [
    "Functions"
   ]
  },
  {
   "cell_type": "code",
   "execution_count": 5,
   "metadata": {},
   "outputs": [],
   "source": [
    "def dfs_index_files_and_folders(root_path):\n",
    "    nested_index = {}\n",
    "    exclude_file_types = json.loads(os.getenv('IGNORED_FILE_TYPES', '[]'))\n",
    "    excluded_files = json.loads(os.getenv('IGNORED_FILES', '[]'))\n",
    "    \n",
    "    def dfs(path, relative_path, layer):\n",
    "        if os.path.isdir(path):\n",
    "            try:\n",
    "                contents = os.listdir(path)\n",
    "                if layer not in nested_index:\n",
    "                    nested_index[layer] = {}\n",
    "                nested_index[layer][relative_path] = []\n",
    "                \n",
    "                for item in contents:\n",
    "                    full_path = os.path.join(path, item)\n",
    "                    relative_item_path = os.path.join(relative_path, item)\n",
    "                    \n",
    "                    if os.path.isdir(full_path):\n",
    "                        nested_index[layer][relative_path].append(item)\n",
    "                        dfs(full_path, relative_item_path, layer + 1)\n",
    "                    else:\n",
    "                        if (os.path.splitext(item)[1] not in exclude_file_types) and (item not in excluded_files):\n",
    "                            nested_index[layer][relative_path].append(item)\n",
    "            except PermissionError:\n",
    "                print(f\"Permission denied: {path}\")\n",
    "\n",
    "    for item in os.listdir(root_path):\n",
    "        full_path = os.path.join(root_path, item)\n",
    "        dfs(full_path, item, 1)\n",
    "    \n",
    "    return nested_index\n",
    "\n",
    "def fetch_metadata(nested_index):\n",
    "    tv = TV()\n",
    "    # for x in nested_index:\n",
    "    #     showIndex = nested_index[x]\n",
    "    #     for show in showIndex:\n",
    "    #         show_title = show\n",
    "    #         show_path = os.path.join(media_directory, show)\n",
    "    #         show_metadata = fetch_show_metadata(show_title, show_path)\n",
    "    #         add_show_metadata(show_metadata, 'show')\n",
    "            \n",
    "    #         for season in showIndex[show]:\n",
    "    #             season_path = os.path.join(show_path, season)\n",
    "    #             seasonNum = season.split(' ')[1]\n",
    "    #             season_metadata = fetch_show_metadata(show_title, season_path, seasonNum)\n",
    "    #             add_show_metadata(season_metadata, 'season')\n",
    "                \n",
    "    #             for episode in showIndex[show][season]:\n",
    "    #                 episode_path = os.path.join(season_path, episode)\n",
    "    #                 episodeNum = episode.split(' ')[1]\n",
    "    #                 episode_metadata = fetch_show_metadata(show_title, episode_path, seasonNum, episodeNum)\n",
    "    #                 add_show_metadata(episode_metadata, 'episode')\n",
    "                    \n",
    "    season = Season()\n",
    "    episode = Episode()\n",
    "    \n",
    "    results = tv.search(show_title)\n",
    "    if results:\n",
    "        show_id = results[1].id\n",
    "        show_details = tv.details(show_id)\n",
    "        season_details = season.details(show_id, seasonNum)\n",
    "        episode_details = episode.details(show_id, seasonNum, episodeNum)\n",
    "\n",
    "        \n",
    "        # Prepare metadata dictionary\n",
    "        metadata = {\n",
    "            'title': show_details.name,\n",
    "            'overview': show_details.overview,\n",
    "            'show_details': show_details,\n",
    "            'season': seasonNum,\n",
    "            \"season_details\": season_details,\n",
    "            \"episode\": episodeNum,\n",
    "            \"episode_details\": episode_details\n",
    "            # 'episode_title': episode_details.name,\n",
    "            # 'episode_overview': episode_details.overview,\n",
    "            # 'air_date': episode_details.air_date,\n",
    "            # 'file_path': os.path.join(root, file)\n",
    "        }\n",
    "                    \n",
    "    return metadata\n",
    "\n",
    "def add_show_metadata(metadata, metadata_type):\n",
    "    match metadata_type:\n",
    "        case 'show':\n",
    "            r.hset(f'show:{metadata[\"title\"]}', mapping=metadata)\n",
    "        case 'season':\n",
    "            r.hset(f'show:{metadata[\"title\"]}:season:{metadata[\"season\"]}', mapping=metadata)\n",
    "        case 'episode':\n",
    "            r.hset(f'show:{metadata[\"title\"]}:season:{metadata[\"season\"]}:episode:{metadata[\"episode\"]}', mapping=metadata)\n",
    "        case _:\n",
    "            print('Invalid metadata type')\n",
    "\n",
    "def store_data(metadata):\n",
    "    # Store metadata in Redis\n",
    "    # redis_key = f\"media:{show_title}:season_{season}:episode_{episode}\"\n",
    "    # r.hset(redis_key, mapping=metadata)\n",
    "    # print(f\"Added metadata for {show_title} S{season}E{episode}\")\n",
    "    return\n",
    "\n",
    "# Directory containing the media files\n",
    "# media_directory = input(\"Enter the path to the media directory: \")"
   ]
  },
  {
   "cell_type": "code",
   "execution_count": 6,
   "metadata": {},
   "outputs": [],
   "source": [
    "api_key = os.getenv('TMDB_API_KEY')\n",
    "tmdb = TMDb()\n",
    "tmdb.api_key = api_key\n",
    "show_title = 'Cowboy Bebop'\n",
    "seasonNum = 1\n",
    "episodeNum = 1\n",
    "\n",
    "# metadata = fetch_metadata(show_title, seasonNum, episodeNum)\n",
    "# print(metadata)"
   ]
  },
  {
   "cell_type": "code",
   "execution_count": 7,
   "metadata": {},
   "outputs": [],
   "source": [
    "file_path = os.getenv('MEDIA_PATH')\n",
    "result = dfs_index_files_and_folders(file_path)\n",
    "with open(\"burner.txt\", \"w\") as f:\n",
    "  print(result, file=f)"
   ]
  },
  {
   "cell_type": "code",
   "execution_count": null,
   "metadata": {},
   "outputs": [],
   "source": []
  }
 ],
 "metadata": {
  "kernelspec": {
   "display_name": "Fake TV Python",
   "language": "python",
   "name": "fake-tv-python"
  },
  "language_info": {
   "codemirror_mode": {
    "name": "ipython",
    "version": 3
   },
   "file_extension": ".py",
   "mimetype": "text/x-python",
   "name": "python",
   "nbconvert_exporter": "python",
   "pygments_lexer": "ipython3",
   "version": "3.12.4"
  }
 },
 "nbformat": 4,
 "nbformat_minor": 2
}
