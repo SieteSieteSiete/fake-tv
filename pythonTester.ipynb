{
 "cells": [
  {
   "cell_type": "code",
   "execution_count": 8,
   "metadata": {},
   "outputs": [
    {
     "data": {
      "text/plain": [
       "True"
      ]
     },
     "execution_count": 8,
     "metadata": {},
     "output_type": "execute_result"
    }
   ],
   "source": [
    "from dotenv import load_dotenv\n",
    "import re\n",
    "import json\n",
    "import os\n",
    "import redis\n",
    "from tmdbv3api import TMDb, TV, Season, Episode\n",
    "import xml.etree.ElementTree as ET\n",
    "\n",
    "load_dotenv()"
   ]
  },
  {
   "cell_type": "code",
   "execution_count": 9,
   "metadata": {},
   "outputs": [],
   "source": [
    "r = redis.Redis(host='localhost', port=6379, decode_responses=True)"
   ]
  },
  {
   "cell_type": "markdown",
   "metadata": {},
   "source": [
    "Test Key:"
   ]
  },
  {
   "cell_type": "code",
   "execution_count": 10,
   "metadata": {},
   "outputs": [
    {
     "data": {
      "text/plain": [
       "True"
      ]
     },
     "execution_count": 10,
     "metadata": {},
     "output_type": "execute_result"
    }
   ],
   "source": [
    "# Example: Set and get a key\n",
    "r.set('key', 'value')"
   ]
  },
  {
   "cell_type": "code",
   "execution_count": 11,
   "metadata": {},
   "outputs": [
    {
     "name": "stdout",
     "output_type": "stream",
     "text": [
      "value\n"
     ]
    }
   ],
   "source": [
    "print(r.get('key'))  # b'value'"
   ]
  },
  {
   "cell_type": "code",
   "execution_count": 12,
   "metadata": {},
   "outputs": [
    {
     "data": {
      "text/plain": [
       "0"
      ]
     },
     "execution_count": 12,
     "metadata": {},
     "output_type": "execute_result"
    }
   ],
   "source": [
    "# Add the media file metadata from the NFO file\n",
    "metadata = {\n",
    "    'plot': 'In 2071, roughly fifty years after an accident with a hyperspace gateway made the Earth almost uninhabitable, humanity has colonized most of the rocky planets and moons of the Solar System. Amid a rising crime rate, the Inter Solar System Police (ISSP) set up a legalized contract system, in which registered bounty hunters (also referred to as \"Cowboys\") chase criminals and bring them in alive in return for a reward.',\n",
    "    'outline': 'In 2071, roughly fifty years after an accident with a hyperspace gateway made the Earth almost uninhabitable, humanity has colonized most of the rocky planets and moons of the Solar System. Amid a rising crime rate, the Inter Solar System Police (ISSP) set up a legalized contract system, in which registered bounty hunters (also referred to as \"Cowboys\") chase criminals and bring them in alive in return for a reward.',\n",
    "    'lockdata': 'true',\n",
    "    'dateadded': '2022-10-19 19:46:52',\n",
    "    'title': 'Cowboy Bebop',\n",
    "    'originaltitle': 'カウボーイビバップ',\n",
    "    'writer': 'Hajime Yatate',\n",
    "    'credits': 'Hajime Yatate',\n",
    "    'trailer': 'plugin://plugin.video.youtube/?action=play_video&videoid=RI08P5SaJNU',\n",
    "    'rating': '8.9',\n",
    "    'year': '1998',\n",
    "    'mpaa': 'TV-14',\n",
    "    'imdb_id': 'tt0213338',\n",
    "    'tmdbid': '30991',\n",
    "    'premiered': '1998-04-02',\n",
    "    'releasedate': '1998-04-02',\n",
    "    'enddate': '1999-04-23',\n",
    "    'runtime': '25',\n",
    "    'genre': 'Western',\n",
    "    'studio': 'WOWOW Prime',\n",
    "    'tag': 'space western',\n",
    "    'tvdbid': '76885',\n",
    "    'art': '',\n",
    "    'actor': '',\n",
    "    'id': '76885',\n",
    "    'episodeguide': '',\n",
    "    'season': '-1',\n",
    "    'episode': '-1',\n",
    "    'status': 'Ended'\n",
    "}\n",
    "\n",
    "# Use hset with mapping to add the metadata\n",
    "r.hset('media:cowboy_bebop', mapping=metadata)"
   ]
  },
  {
   "cell_type": "code",
   "execution_count": 16,
   "metadata": {},
   "outputs": [
    {
     "name": "stdout",
     "output_type": "stream",
     "text": [
      "{'enddate': '1999-04-23', 'art': '', 'outline': 'In 2071, roughly fifty years after an accident with a hyperspace gateway made the Earth almost uninhabitable, humanity has colonized most of the rocky planets and moons of the Solar System. Amid a rising crime rate, the Inter Solar System Police (ISSP) set up a legalized contract system, in which registered bounty hunters (also referred to as \"Cowboys\") chase criminals and bring them in alive in return for a reward.', 'premiered': '1998-04-02', 'trailer': 'plugin://plugin.video.youtube/?action=play_video&videoid=RI08P5SaJNU', 'studio': 'WOWOW Prime', 'actor': '', 'plot': 'In 2071, roughly fifty years after an accident with a hyperspace gateway made the Earth almost uninhabitable, humanity has colonized most of the rocky planets and moons of the Solar System. Amid a rising crime rate, the Inter Solar System Police (ISSP) set up a legalized contract system, in which registered bounty hunters (also referred to as \"Cowboys\") chase criminals and bring them in alive in return for a reward.', 'credits': 'Hajime Yatate', 'tmdbid': '30991', 'lockdata': 'true', 'dateadded': '2022-10-19 19:46:52', 'status': 'Ended', 'season': '-1', 'tvdbid': '76885', 'mpaa': 'TV-14', 'releasedate': '1998-04-02', 'rating': '8.9', 'episodeguide': '', 'title': 'Cowboy Bebop', 'originaltitle': 'カウボーイビバップ', 'year': '1998', 'runtime': '25', 'tag': 'space western', 'genre': 'Western', 'writer': 'Hajime Yatate', 'id': '76885', 'episode': '-1', 'imdb_id': 'tt0213338'}\n"
     ]
    }
   ],
   "source": [
    "# Retrieve metadata\n",
    "print(r.hgetall('media:cowboy_bebop'))"
   ]
  },
  {
   "cell_type": "markdown",
   "metadata": {},
   "source": [
    "Script to process nfo"
   ]
  },
  {
   "cell_type": "code",
   "execution_count": 17,
   "metadata": {},
   "outputs": [],
   "source": [
    "# # Load and parse the NFO file\n",
    "# tree = ET.parse('tvshow.nfo')\n",
    "# root = tree.getroot()\n",
    "\n",
    "# # Extract metadata from the NFO file\n",
    "# metadata = {}\n",
    "# for child in root:\n",
    "#     metadata[child.tag] = child.text\n",
    "\n",
    "# metadata"
   ]
  },
  {
   "cell_type": "markdown",
   "metadata": {},
   "source": [
    "Functions"
   ]
  },
  {
   "cell_type": "code",
   "execution_count": 76,
   "metadata": {},
   "outputs": [],
   "source": [
    "def parse_filename(filename):\n",
    "    # Regular expressions for season and episode\n",
    "    patterns = [\n",
    "        r'S(?P<season>\\d{2})E(?P<episode>\\d{2})',  # Matches S01E01 format\n",
    "        r's(?P<season>\\d{2})e(?P<episode>\\d{2})',   # Matches s01e01 format\n",
    "        r's(?P<season>\\d{4})e(?P<episode>\\d{2})',   # Matches s01e01 format\n",
    "        r'(?P<season>\\d)X(?P<episode>\\d{2})',       # Matches 1X01 format\n",
    "        r'(?P<season>\\d{2})x(?P<episode>\\d{2})',    # Matches 01x01 format\n",
    "        r'(?P<season>\\d{2})\\.(?P<episode>\\d{2})',   # Matches 01.01 format\n",
    "        r'(?P<season>\\d{1})E(?P<episode>\\d{2})',    # Matches 1E01 format\n",
    "        r'(?P<season>\\d{1})X(?P<episode>\\d{2})',    # Matches 1X01 format with single-digit season\n",
    "        r'(?P<season>\\d{1})-(?P<episode>\\d{1,2})'   # Matches 1-1 format\n",
    "    ]\n",
    "    \n",
    "    # Check for season and episode numbers\n",
    "    for pattern in patterns:\n",
    "        match = re.search(pattern, filename, re.IGNORECASE)\n",
    "        if match:\n",
    "            return {'season': int(match.group('season')), 'episode': int(match.group('episode'))}\n",
    "    \n",
    "    # Regular expression for episode only\n",
    "    episode_patterns = [\n",
    "        r'E(?P<episode>\\d{2})',  # Matches E01 format\n",
    "        r'e(?P<episode>\\d{2})',  # Matches e01 format\n",
    "        r'(?P<episode>\\d{2})'    # Matches 01 format\n",
    "    ]\n",
    "    \n",
    "    # Check for episode numbers only\n",
    "    for pattern in episode_patterns:\n",
    "        match = re.search(pattern, filename, re.IGNORECASE)\n",
    "        if match:\n",
    "            return {'season': 1, 'episode': int(match.group('episode'))}\n",
    "    \n",
    "    return {'season': 0, 'episode': \"unknown\"}\n",
    "\n",
    "def parse_filenames(filenames):\n",
    "    parsed_info = []\n",
    "    for filename in filenames:\n",
    "        info = parse_filename(filename)\n",
    "        if info:\n",
    "            parsed_info.append({'filename': filename, 'season': info.get('season'), 'episode': info.get('episode')})\n",
    "        else:\n",
    "            parsed_info.append({'filename': filename, 'season': None, 'episode': None})\n",
    "    return parsed_info\n",
    "\n",
    "def clean_tv_show_title(title):\n",
    "    title = re.sub(r'(x264|x265|HVEC).*', '', title, flags=re.IGNORECASE)\n",
    "    title = re.sub(r'\\[.*?\\]', '', title)\n",
    "    title = re.sub(r'\\(.*?\\)', '', title)\n",
    "    title = re.sub(r'\\.(avi|mkv|mp4|WEBRip|web|AMZN|NF|DEFLATE|DDP5\\.1|720p|1080p|Complete|Original|S\\d{2}|E\\d{2})', '', title, flags=re.IGNORECASE)\n",
    "    title = title.replace('.', ' ')\n",
    "    title = re.sub(r'\\s+', ' ', title).strip()\n",
    "    return title\n",
    "\n",
    "# def get_first_element(variable):\n",
    "#     if isinstance(variable, list):\n",
    "#         return variable[0] if variable else None\n",
    "#     return variable\n",
    "\n",
    "def is_video_file(filename):\n",
    "    video_extensions = ['.mp4', '.mkv', '.avi', '.mov']\n",
    "    return os.path.splitext(filename)[1].lower() in video_extensions\n",
    "\n",
    "def index_files_by_show(root_path):\n",
    "    show_index = {}\n",
    "    season_index = {}\n",
    "    exclude_file_types = json.loads(os.getenv('IGNORED_FILE_TYPES', '[]'))\n",
    "    excluded_files = json.loads(os.getenv('IGNORED_FILES', '[]'))\n",
    "    \n",
    "    def dfs(path, show_name, show_clean, flag):\n",
    "        try:\n",
    "            contents = os.listdir(path)\n",
    "            for item in contents:\n",
    "                full_path = os.path.join(path, item)\n",
    "                if os.path.isdir(full_path):\n",
    "                    flag = True\n",
    "                    dfs(full_path, show_name, show_clean, flag)\n",
    "                elif os.path.isfile(full_path) and is_video_file(item):\n",
    "                    if (os.path.basename(path) == show_name) and flag:\n",
    "                        flag = False\n",
    "\n",
    "                    if (os.path.splitext(item)[1] not in exclude_file_types) and (item not in excluded_files):\n",
    "                        show_index[show_clean].append(full_path)\n",
    "                        if flag:\n",
    "                            parsed_info = parse_filename(item)\n",
    "                            season_index[show_clean][parsed_info.get(\"season\")] = os.path.basename(path)\n",
    "                            flag = False\n",
    "\n",
    "        except PermissionError:\n",
    "            print(f\"Permission denied: {path}\")\n",
    "    \n",
    "    for show in os.listdir(root_path):\n",
    "        show_path = os.path.join(root_path, show)\n",
    "        if os.path.isdir(show_path):\n",
    "            show_clean = clean_tv_show_title(show)\n",
    "            show_index[show_clean] = []\n",
    "            season_index[show_clean] = {}\n",
    "            flag = True\n",
    "            dfs(show_path, show, show_clean, flag)\n",
    "    \n",
    "    return show_index, season_index\n",
    "\n",
    "def add_show_metadata(metadata, metadata_type):\n",
    "    match metadata_type:\n",
    "        case 'show':\n",
    "            r.hset(f'show:{metadata[\"title\"]}', mapping=metadata)\n",
    "        case 'season':\n",
    "            r.hset(f'show:{metadata[\"title\"]}:season:{metadata[\"season\"]}', mapping=metadata)\n",
    "        case 'episode':\n",
    "            r.hset(f'show:{metadata[\"title\"]}:season:{metadata[\"season\"]}:episode:{metadata[\"episode\"]}', mapping=metadata)\n",
    "        case _:\n",
    "            print('Invalid metadata type')\n",
    "            \n",
    "def fetch_and_add_metadata(show_index, no_season_folder):\n",
    "    test_index = {}\n",
    "    tv = TV()\n",
    "    season = Season()\n",
    "    episode = Episode()\n",
    "    test_index['shows'] = {}\n",
    "    test_index['seasons'] = {}\n",
    "    test_index['episodes'] = {}\n",
    "\n",
    "    for show in show_index:\n",
    "        search_results = tv.search(show)\n",
    "        results = list(search_results.results)\n",
    "        if not(results):\n",
    "            cleaned_title = clean_tv_show_title(show)\n",
    "            search_results = tv.search(cleaned_title)\n",
    "            results = list(search_results.results)\n",
    "        most_popular_match = max(results, key=lambda x: x.popularity)\n",
    "        show_id = most_popular_match.id\n",
    "        show_metadata = tv.details(show_id)\n",
    "        show_metadata.path = os.path.join(os.getenv(\"MEDIA_PATH\"), show)\n",
    "        test_index[\"shows\"][show] = show_metadata\n",
    "        # add_show_metadata(show_metadata, 'show')\n",
    "\n",
    "        file_paths = show_index[show]\n",
    "        parsed_filenames = parse_filenames(file_paths)\n",
    "        \n",
    "        if not(show in no_season_folder):\n",
    "            unique_seasons = {episode['season'] for episode in parsed_filenames}\n",
    "            unique_seasons_paths = {os.path.dirname(episode) for episode in file_paths}\n",
    "            print(unique_seasons)\n",
    "            print(unique_seasons_paths)\n",
    "            # season_metadata.path = os.path.dirname(file_path)\n",
    "\n",
    "        for file_path in file_paths:\n",
    "            file = os.path.basename(file_path)\n",
    "            file = parse_filename(file)\n",
    "            if file:\n",
    "                seasonNum = file.get('season')\n",
    "                episodeNum = file.get('episode')\n",
    "            else:\n",
    "                return\n",
    "\n",
    "            season_metadata = season.details(show_id, seasonNum)\n",
    "            if os.path.basename(os.path.dirname(file_path)) != show:\n",
    "                season_metadata.path = os.path.dirname(file_path)\n",
    "            # add_show_metadata(season_metadata, 'season')\n",
    "            \n",
    "            episode_metadata = episode.details(show_id, seasonNum, episodeNum)\n",
    "            episode_metadata.path = file_path\n",
    "            # add_show_metadata(episode_metadata, 'episode')\n",
    "    \n",
    "    return test_index\n",
    "\n"
   ]
  },
  {
   "cell_type": "code",
   "execution_count": null,
   "metadata": {},
   "outputs": [],
   "source": [
    "file_path = os.getenv('MEDIA_PATH')\n",
    "show_index, season_index = index_files_by_show(file_path)\n",
    "season_index\n",
    "# fetch_and_add_metadata(show_index, season_index)\n",
    "# with open(\"burner.txt\", \"w\") as f:\n",
    "#   print(show_index, file=f)"
   ]
  },
  {
   "cell_type": "code",
   "execution_count": null,
   "metadata": {},
   "outputs": [],
   "source": [
    "api_key = os.getenv('TMDB_API_KEY')\n",
    "tmdb = TMDb()\n",
    "tmdb.api_key = api_key\n",
    "show_title = 'Cowboy Bebop'\n",
    "seasonNum = 1\n",
    "episodeNum = 1\n",
    "tv = TV()\n",
    "\n",
    "results = tv.search(show_title)\n",
    "print(results)\n",
    "\n",
    "# metadata = fetch_metadata(show_title, seasonNum, episodeNum)\n",
    "# print(metadata)"
   ]
  },
  {
   "cell_type": "code",
   "execution_count": 41,
   "metadata": {},
   "outputs": [],
   "source": [
    "# for title in result[1]:\n",
    "#     clean_title = re.sub(r'\\.S\\d{2}.*', '', title).replace('.', ' ')\n",
    "#     print(clean_title)\n",
    "#     print()"
   ]
  },
  {
   "cell_type": "code",
   "execution_count": null,
   "metadata": {},
   "outputs": [],
   "source": []
  }
 ],
 "metadata": {
  "kernelspec": {
   "display_name": "Fake TV Python",
   "language": "python",
   "name": "fake-tv-python"
  },
  "language_info": {
   "codemirror_mode": {
    "name": "ipython",
    "version": 3
   },
   "file_extension": ".py",
   "mimetype": "text/x-python",
   "name": "python",
   "nbconvert_exporter": "python",
   "pygments_lexer": "ipython3",
   "version": "3.12.4"
  }
 },
 "nbformat": 4,
 "nbformat_minor": 2
}
