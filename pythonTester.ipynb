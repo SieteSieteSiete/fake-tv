{
 "cells": [
  {
   "cell_type": "code",
   "execution_count": 1,
   "metadata": {},
   "outputs": [
    {
     "data": {
      "text/plain": [
       "True"
      ]
     },
     "execution_count": 1,
     "metadata": {},
     "output_type": "execute_result"
    }
   ],
   "source": [
    "from dotenv import load_dotenv\n",
    "import re\n",
    "import json\n",
    "import os\n",
    "import redis\n",
    "from tmdbv3api import TMDb, TV, Season, Episode\n",
    "import xml.etree.ElementTree as ET\n",
    "\n",
    "load_dotenv()"
   ]
  },
  {
   "cell_type": "code",
   "execution_count": 2,
   "metadata": {},
   "outputs": [],
   "source": [
    "r = redis.Redis(host='localhost', port=6379, decode_responses=True)"
   ]
  },
  {
   "cell_type": "markdown",
   "metadata": {},
   "source": [
    "Test Key:"
   ]
  },
  {
   "cell_type": "code",
   "execution_count": 7,
   "metadata": {},
   "outputs": [
    {
     "data": {
      "text/plain": [
       "True"
      ]
     },
     "execution_count": 7,
     "metadata": {},
     "output_type": "execute_result"
    }
   ],
   "source": [
    "# Example: Set and get a key\n",
    "r.set('key', 'value')"
   ]
  },
  {
   "cell_type": "code",
   "execution_count": 4,
   "metadata": {},
   "outputs": [
    {
     "name": "stdout",
     "output_type": "stream",
     "text": [
      "value\n"
     ]
    }
   ],
   "source": [
    "print(r.get('key'))  # b'value'"
   ]
  },
  {
   "cell_type": "code",
   "execution_count": 10,
   "metadata": {},
   "outputs": [
    {
     "data": {
      "text/plain": [
       "0"
      ]
     },
     "execution_count": 10,
     "metadata": {},
     "output_type": "execute_result"
    }
   ],
   "source": [
    "# Add the media file metadata from the NFO file\n",
    "metadata = {\n",
    "    'plot': 'In 2071, roughly fifty years after an accident with a hyperspace gateway made the Earth almost uninhabitable, humanity has colonized most of the rocky planets and moons of the Solar System. Amid a rising crime rate, the Inter Solar System Police (ISSP) set up a legalized contract system, in which registered bounty hunters (also referred to as \"Cowboys\") chase criminals and bring them in alive in return for a reward.',\n",
    "    'outline': 'In 2071, roughly fifty years after an accident with a hyperspace gateway made the Earth almost uninhabitable, humanity has colonized most of the rocky planets and moons of the Solar System. Amid a rising crime rate, the Inter Solar System Police (ISSP) set up a legalized contract system, in which registered bounty hunters (also referred to as \"Cowboys\") chase criminals and bring them in alive in return for a reward.',\n",
    "    'lockdata': 'true',\n",
    "    'dateadded': '2022-10-19 19:46:52',\n",
    "    'title': 'Cowboy Bebop',\n",
    "    'originaltitle': 'カウボーイビバップ',\n",
    "    'writer': 'Hajime Yatate',\n",
    "    'credits': 'Hajime Yatate',\n",
    "    'trailer': 'plugin://plugin.video.youtube/?action=play_video&videoid=RI08P5SaJNU',\n",
    "    'rating': '8.9',\n",
    "    'year': '1998',\n",
    "    'mpaa': 'TV-14',\n",
    "    'imdb_id': 'tt0213338',\n",
    "    'tmdbid': '30991',\n",
    "    'premiered': '1998-04-02',\n",
    "    'releasedate': '1998-04-02',\n",
    "    'enddate': '1999-04-23',\n",
    "    'runtime': '25',\n",
    "    'genre': 'Western',\n",
    "    'studio': 'WOWOW Prime',\n",
    "    'tag': 'space western',\n",
    "    'tvdbid': '76885',\n",
    "    'art': '',\n",
    "    'actor': '',\n",
    "    'id': '76885',\n",
    "    'episodeguide': '',\n",
    "    'season': '-1',\n",
    "    'episode': '-1',\n",
    "    'status': 'Ended'\n",
    "}\n",
    "\n",
    "# Use hset with mapping to add the metadata\n",
    "r.hset('media:cowboy_bebop', mapping=metadata)"
   ]
  },
  {
   "cell_type": "code",
   "execution_count": 5,
   "metadata": {},
   "outputs": [
    {
     "name": "stdout",
     "output_type": "stream",
     "text": [
      "{'status': 'Ended', 'writer': 'Hajime Yatate', 'year': '1998', 'studio': 'WOWOW Prime', 'mpaa': 'TV-14', 'plot': 'In 2071, roughly fifty years after an accident with a hyperspace gateway made the Earth almost uninhabitable, humanity has colonized most of the rocky planets and moons of the Solar System. Amid a rising crime rate, the Inter Solar System Police (ISSP) set up a legalized contract system, in which registered bounty hunters (also referred to as \"Cowboys\") chase criminals and bring them in alive in return for a reward.', 'imdb_id': 'tt0213338', 'releasedate': '1998-04-02', 'lockdata': 'true', 'id': '76885', 'credits': 'Hajime Yatate', 'enddate': '1999-04-23', 'episode': '-1', 'premiered': '1998-04-02', 'originaltitle': 'カウボーイビバップ', 'dateadded': '2022-10-19 19:46:52', 'season': '-1', 'runtime': '25', 'rating': '8.9', 'actor': '', 'outline': 'In 2071, roughly fifty years after an accident with a hyperspace gateway made the Earth almost uninhabitable, humanity has colonized most of the rocky planets and moons of the Solar System. Amid a rising crime rate, the Inter Solar System Police (ISSP) set up a legalized contract system, in which registered bounty hunters (also referred to as \"Cowboys\") chase criminals and bring them in alive in return for a reward.', 'episodeguide': '', 'tvdbid': '76885', 'tag': 'space western', 'title': 'Cowboy Bebop', 'tmdbid': '30991', 'art': '', 'genre': 'Western', 'trailer': 'plugin://plugin.video.youtube/?action=play_video&videoid=RI08P5SaJNU'}\n"
     ]
    }
   ],
   "source": [
    "# Retrieve metadata\n",
    "print(r.hgetall('media:cowboy_bebop'))"
   ]
  },
  {
   "cell_type": "markdown",
   "metadata": {},
   "source": [
    "Script to process nfo"
   ]
  },
  {
   "cell_type": "code",
   "execution_count": null,
   "metadata": {},
   "outputs": [],
   "source": [
    "# Load and parse the NFO file\n",
    "tree = ET.parse('tvshow.nfo')\n",
    "root = tree.getroot()\n",
    "\n",
    "# Extract metadata from the NFO file\n",
    "metadata = {}\n",
    "for child in root:\n",
    "    metadata[child.tag] = child.text\n",
    "\n",
    "metadata"
   ]
  },
  {
   "cell_type": "markdown",
   "metadata": {},
   "source": [
    "Functions"
   ]
  },
  {
   "cell_type": "code",
   "execution_count": 3,
   "metadata": {},
   "outputs": [],
   "source": [
    "def parse_filename(filename):\n",
    "    # Regular expressions for season and episode\n",
    "    patterns = [\n",
    "        r'S(?P<season>\\d{2})E(?P<episode>\\d{2})',  # Matches S01E01 format\n",
    "        r'(?P<season>\\d)X(?P<episode>\\d{2})',       # Matches 1X01 format\n",
    "        r'(?P<season>\\d{2})x(?P<episode>\\d{2})',    # Matches 01x01 format\n",
    "        r's(?P<season>\\d{2})e(?P<episode>\\d{2})',   # Matches s01e01 format\n",
    "        r'(?P<season>\\d{2})\\.(?P<episode>\\d{2})',   # Matches 01.01 format\n",
    "        r'(?P<season>\\d{1})E(?P<episode>\\d{2})',    # Matches 1E01 format\n",
    "        r'(?P<season>\\d{1})X(?P<episode>\\d{2})',    # Matches 1X01 format with single-digit season\n",
    "        r'(?P<season>\\d{1})-(?P<episode>\\d{1,2})'   # Matches 1-1 format\n",
    "    ]\n",
    "    \n",
    "    # Check for season and episode numbers\n",
    "    for pattern in patterns:\n",
    "        match = re.search(pattern, filename, re.IGNORECASE)\n",
    "        if match:\n",
    "            return match.groupdict()\n",
    "    \n",
    "    # Regular expression for episode only\n",
    "    episode_patterns = [\n",
    "        r'E(?P<episode>\\d{2})',  # Matches E01 format\n",
    "        r'e(?P<episode>\\d{2})',  # Matches e01 format\n",
    "        r'(?P<episode>\\d{2})'    # Matches 01 format\n",
    "    ]\n",
    "    \n",
    "    # Check for episode numbers only\n",
    "    for pattern in episode_patterns:\n",
    "        match = re.search(pattern, filename, re.IGNORECASE)\n",
    "        if match:\n",
    "            return {'season': None, 'episode': match.group('episode')}\n",
    "    \n",
    "    return None\n",
    "\n",
    "def parse_filenames(filenames):\n",
    "    parsed_info = []\n",
    "    for filename in filenames:\n",
    "        info = parse_filename(filename)\n",
    "        if info:\n",
    "            parsed_info.append({'filename': filename, 'season': info.get('season'), 'episode': info.get('episode')})\n",
    "        else:\n",
    "            parsed_info.append({'filename': filename, 'season': None, 'episode': None})\n",
    "    return parsed_info\n",
    "\n",
    "def is_video_file(filename):\n",
    "    video_extensions = ['.mp4', '.mkv', '.avi', '.mov']\n",
    "    return os.path.splitext(filename)[1].lower() in video_extensions\n",
    "\n",
    "def index_files_by_show(root_path):\n",
    "    show_index = {}\n",
    "    exclude_file_types = json.loads(os.getenv('IGNORED_FILE_TYPES', '[]'))\n",
    "    excluded_files = json.loads(os.getenv('IGNORED_FILES', '[]'))\n",
    "    \n",
    "    def dfs(path, show_name):\n",
    "        try:\n",
    "            contents = os.listdir(path)\n",
    "            for item in contents:\n",
    "                full_path = os.path.join(path, item)\n",
    "                if os.path.isdir(full_path):\n",
    "                    dfs(full_path, show_name)\n",
    "                elif os.path.isfile(full_path) and is_video_file(item):\n",
    "                    if (os.path.splitext(item)[1] not in exclude_file_types) and (item not in excluded_files):\n",
    "                        show_index[show_name].append(item)\n",
    "        except PermissionError:\n",
    "            print(f\"Permission denied: {path}\")\n",
    "    \n",
    "    for show in os.listdir(root_path):\n",
    "        show_path = os.path.join(root_path, show)\n",
    "        if os.path.isdir(show_path):\n",
    "            show_index[show] = []\n",
    "            dfs(show_path, show)\n",
    "    \n",
    "    return show_index\n",
    "\n",
    "def add_show_metadata(metadata, metadata_type):\n",
    "    match metadata_type:\n",
    "        case 'show':\n",
    "            r.hset(f'show:{metadata[\"title\"]}', mapping=metadata)\n",
    "        case 'season':\n",
    "            r.hset(f'show:{metadata[\"title\"]}:season:{metadata[\"season\"]}', mapping=metadata)\n",
    "        case 'episode':\n",
    "            r.hset(f'show:{metadata[\"title\"]}:season:{metadata[\"season\"]}:episode:{metadata[\"episode\"]}', mapping=metadata)\n",
    "        case _:\n",
    "            print('Invalid metadata type')\n",
    "            \n",
    "def fetch_metadata(nested_index):\n",
    "    tv = TV()\n",
    "    season = Season()\n",
    "    episode = Episode()\n",
    "    showIndex = nested_index[1]\n",
    "    episodeIndex = nested_index[2]\n",
    "\n",
    "    for show in showIndex:\n",
    "        results = tv.search(show)\n",
    "        show_id = results[0].id\n",
    "        show_metadata = tv.details(show_id)\n",
    "        show_metadata.path = os.path.join(os.getenv(\"MEDIA_PATH\"), show)\n",
    "        add_show_metadata(show_metadata, 'show')\n",
    "        \n",
    "        for season in showIndex[show]:\n",
    "            seasonNum = season.split(' ')[1]\n",
    "            season_metadata = season.details(show_id, seasonNum)\n",
    "            season_metadata.path = os.path.join(show_metadata.path, season)\n",
    "            add_show_metadata(season_metadata, 'season')\n",
    "            \n",
    "            for episode in episodeIndex[os.join(show, season)]:\n",
    "                episodeNum = episode.split(' ')[1]\n",
    "                episode_metadata = episode.details(show_id, seasonNum, episodeNum)\n",
    "                episode_metadata.path = os.path.join(season_metadata.path, episode)\n",
    "                add_show_metadata(episode_metadata, 'episode')\n",
    "                    \n",
    "    if results:\n",
    "        show_details = tv.details(show_id)\n",
    "        season_details = season.details(show_id, seasonNum)\n",
    "        episode_details = episode.details(show_id, seasonNum, episodeNum)\n",
    "\n",
    "        \n",
    "        # Prepare metadata dictionary\n",
    "        metadata = {\n",
    "            'title': show_details.name,\n",
    "            'overview': show_details.overview,\n",
    "            'show_details': show_details,\n",
    "            'season': seasonNum,\n",
    "            \"season_details\": season_details,\n",
    "            \"episode\": episodeNum,\n",
    "            \"episode_details\": episode_details\n",
    "            # 'episode_title': episode_details.name,\n",
    "            # 'episode_overview': episode_details.overview,\n",
    "            # 'air_date': episode_details.air_date,\n",
    "            # 'file_path': os.path.join(root, file)\n",
    "        }\n",
    "                    \n",
    "    return metadata\n",
    "\n",
    "# Directory containing the media files\n",
    "# media_directory = input(\"Enter the path to the media directory: \")"
   ]
  },
  {
   "cell_type": "code",
   "execution_count": 4,
   "metadata": {},
   "outputs": [],
   "source": [
    "api_key = os.getenv('TMDB_API_KEY')\n",
    "tmdb = TMDb()\n",
    "tmdb.api_key = api_key\n",
    "show_title = 'Cowboy Bebop'\n",
    "seasonNum = 1\n",
    "episodeNum = 1\n",
    "tv = TV()\n",
    "\n",
    "results = tv.search(show_title)\n",
    "show_id = results[1].id\n",
    "show_details = tv.details(show_id)\n",
    "\n",
    "# metadata = fetch_metadata(show_title, seasonNum, episodeNum)\n",
    "# print(metadata)"
   ]
  },
  {
   "cell_type": "code",
   "execution_count": 5,
   "metadata": {},
   "outputs": [],
   "source": [
    "show_details.show_path = os.getenv(\"MEDIA_PATH\")"
   ]
  },
  {
   "cell_type": "code",
   "execution_count": 6,
   "metadata": {},
   "outputs": [],
   "source": [
    "file_path = os.getenv('MEDIA_PATH')\n",
    "result = index_files_by_show(file_path)\n",
    "with open(\"burner.txt\", \"w\") as f:\n",
    "  print(result, file=f)"
   ]
  },
  {
   "cell_type": "code",
   "execution_count": 41,
   "metadata": {},
   "outputs": [],
   "source": [
    "# for title in result[1]:\n",
    "#     clean_title = re.sub(r'\\.S\\d{2}.*', '', title).replace('.', ' ')\n",
    "#     print(clean_title)\n",
    "#     print()"
   ]
  },
  {
   "cell_type": "code",
   "execution_count": null,
   "metadata": {},
   "outputs": [],
   "source": []
  }
 ],
 "metadata": {
  "kernelspec": {
   "display_name": "Fake TV Python",
   "language": "python",
   "name": "fake-tv-python"
  },
  "language_info": {
   "codemirror_mode": {
    "name": "ipython",
    "version": 3
   },
   "file_extension": ".py",
   "mimetype": "text/x-python",
   "name": "python",
   "nbconvert_exporter": "python",
   "pygments_lexer": "ipython3",
   "version": "3.12.4"
  }
 },
 "nbformat": 4,
 "nbformat_minor": 2
}
